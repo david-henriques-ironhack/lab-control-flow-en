{
  "cells": [
    {
      "cell_type": "markdown",
      "metadata": {
        "id": "SWNd4acQHlBq"
      },
      "source": [
        "## Words"
      ]
    },
    {
      "cell_type": "code",
      "execution_count": 2,
      "metadata": {
        "id": "FdXXUqN2HlBr"
      },
      "outputs": [],
      "source": [
        "words = ['play', 'filling', 'bar', 'theatre', 'easygoing', 'date', 'lead', 'that', 'story',  'island']"
      ]
    },
    {
      "cell_type": "markdown",
      "metadata": {
        "id": "5oAqDYftHlBs"
      },
      "source": [
        "**Print every word in upper case**"
      ]
    },
    {
      "cell_type": "code",
      "execution_count": 7,
      "metadata": {
        "colab": {
          "base_uri": "https://localhost:8080/"
        },
        "id": "fbscQ-qqHlBs",
        "outputId": "1faafb5b-248b-4676-acbb-5961af36bf4f"
      },
      "outputs": [
        {
          "output_type": "stream",
          "name": "stdout",
          "text": [
            "['PLAY', 'FILLING', 'BAR', 'THEATRE', 'EASYGOING', 'DATE', 'LEAD', 'THAT', 'STORY', 'ISLAND']\n"
          ]
        }
      ],
      "source": [
        "print([word.upper() for word in words])"
      ]
    },
    {
      "cell_type": "markdown",
      "metadata": {
        "id": "Zy8RUzsfHlBt"
      },
      "source": [
        "**Create a new list containing only words with 5 or more letters**"
      ]
    },
    {
      "cell_type": "code",
      "execution_count": 15,
      "metadata": {
        "colab": {
          "base_uri": "https://localhost:8080/"
        },
        "id": "_UY3K9UHHlBt",
        "outputId": "68e43f98-12fe-4a15-a09c-6d0710cc076f"
      },
      "outputs": [
        {
          "output_type": "stream",
          "name": "stdout",
          "text": [
            "['filling', 'theatre', 'easygoing', 'story', 'island']\n"
          ]
        }
      ],
      "source": [
        "new_list = [word for word in words if len(word) >= 5]\n",
        "print(new_list)"
      ]
    },
    {
      "cell_type": "markdown",
      "metadata": {
        "id": "Irmvn1TkHlBt"
      },
      "source": [
        "**Print the first word starting with \"t\"**"
      ]
    },
    {
      "cell_type": "code",
      "execution_count": 16,
      "metadata": {
        "colab": {
          "base_uri": "https://localhost:8080/"
        },
        "id": "fLoQG4RLHlBt",
        "outputId": "eb7a36b3-c6a7-4600-84d7-238dd345bbe7"
      },
      "outputs": [
        {
          "output_type": "stream",
          "name": "stdout",
          "text": [
            "theatre\n"
          ]
        }
      ],
      "source": [
        "for word in words:\n",
        "    if word.startswith('t'):\n",
        "        print(word)\n",
        "        break"
      ]
    },
    {
      "cell_type": "markdown",
      "metadata": {
        "id": "wdwZ0c9nHlBu"
      },
      "source": [
        "## Numbers"
      ]
    },
    {
      "cell_type": "markdown",
      "metadata": {
        "id": "K1WPjepWHlBu"
      },
      "source": [
        "**Create a list containing the square of every number from 1 to 10**"
      ]
    },
    {
      "cell_type": "code",
      "execution_count": 18,
      "metadata": {
        "colab": {
          "base_uri": "https://localhost:8080/"
        },
        "id": "6mwTJg9mHlBu",
        "outputId": "0cf1f63e-45d6-4f59-bc3e-d4fec9b6cc92"
      },
      "outputs": [
        {
          "output_type": "stream",
          "name": "stdout",
          "text": [
            "[1, 4, 9, 16, 25, 36, 49, 64, 81, 100]\n"
          ]
        }
      ],
      "source": [
        "sqr_numbers = [num**2 for num in range(1, 11)]\n",
        "print(sqr_numbers)"
      ]
    },
    {
      "cell_type": "markdown",
      "metadata": {
        "id": "nOTk4Dl6HlBu"
      },
      "source": [
        "**Print a list containing the square of every odd number from 1 to 10**"
      ]
    },
    {
      "cell_type": "code",
      "execution_count": 19,
      "metadata": {
        "colab": {
          "base_uri": "https://localhost:8080/"
        },
        "id": "exYMTagbHlBv",
        "outputId": "f427b121-ef43-42f8-f108-fcab51f97dd9"
      },
      "outputs": [
        {
          "output_type": "stream",
          "name": "stdout",
          "text": [
            "[1, 9, 25, 49, 81]\n"
          ]
        }
      ],
      "source": [
        "odd_sqr_numbers = [num**2 for num in range(1, 11) if num % 2 != 0]\n",
        "print(odd_sqr_numbers)"
      ]
    },
    {
      "cell_type": "markdown",
      "metadata": {
        "id": "AoNOkXWEHlBv"
      },
      "source": [
        "**Create a list with the squares of all multiples of 8 below 1000**"
      ]
    },
    {
      "cell_type": "code",
      "execution_count": 20,
      "metadata": {
        "colab": {
          "base_uri": "https://localhost:8080/"
        },
        "id": "OPTsyTUxHlBv",
        "outputId": "ffad593b-23e6-44a8-e7c8-060d0e6b0e19"
      },
      "outputs": [
        {
          "output_type": "stream",
          "name": "stdout",
          "text": [
            "[64, 256, 576, 1024, 1600, 2304, 3136, 4096, 5184, 6400, 7744, 9216, 10816, 12544, 14400, 16384, 18496, 20736, 23104, 25600, 28224, 30976, 33856, 36864, 40000, 43264, 46656, 50176, 53824, 57600, 61504, 65536, 69696, 73984, 78400, 82944, 87616, 92416, 97344, 102400, 107584, 112896, 118336, 123904, 129600, 135424, 141376, 147456, 153664, 160000, 166464, 173056, 179776, 186624, 193600, 200704, 207936, 215296, 222784, 230400, 238144, 246016, 254016, 262144, 270400, 278784, 287296, 295936, 304704, 313600, 322624, 331776, 341056, 350464, 360000, 369664, 379456, 389376, 399424, 409600, 419904, 430336, 440896, 451584, 462400, 473344, 484416, 495616, 506944, 518400, 529984, 541696, 553536, 565504, 577600, 589824, 602176, 614656, 627264, 640000, 652864, 665856, 678976, 692224, 705600, 719104, 732736, 746496, 760384, 774400, 788544, 802816, 817216, 831744, 846400, 861184, 876096, 891136, 906304, 921600, 937024, 952576, 968256, 984064, 1000000]\n"
          ]
        }
      ],
      "source": [
        "sqr_eights = [num**2 for num in range(1, 1001) if num % 8 == 0]\n",
        "print(sqr_eights)"
      ]
    },
    {
      "cell_type": "markdown",
      "metadata": {
        "id": "rXNZ-pOVHlBv"
      },
      "source": [
        "## People"
      ]
    },
    {
      "cell_type": "code",
      "execution_count": 22,
      "metadata": {
        "id": "5JEuMyT_HlBw"
      },
      "outputs": [],
      "source": [
        "people = [\n",
        "    {\n",
        "        \"name\": \"Juan\",\n",
        "        \"age\": 34,\n",
        "        \"n_kids\": 2\n",
        "    },\n",
        "    {\n",
        "        \"name\": \"Pepe\",\n",
        "        \"age\": 27,\n",
        "        \"n_kids\": 0\n",
        "    },\n",
        "    {\n",
        "        \"name\": \"Sonia\",\n",
        "        \"age\": 41,\n",
        "        \"n_kids\": 1\n",
        "    },\n",
        "    {\n",
        "        \"name\": \"Lucía\",\n",
        "        \"age\": 22,\n",
        "        \"n_kids\": 2\n",
        "    },\n",
        "    {\n",
        "        \"name\": \"Leo\",\n",
        "        \"age\": 55,\n",
        "        \"n_kids\": 5\n",
        "    }\n",
        "]"
      ]
    },
    {
      "cell_type": "markdown",
      "metadata": {
        "id": "N0o4xNhJHlBw"
      },
      "source": [
        "**How many people are there?**"
      ]
    },
    {
      "cell_type": "code",
      "execution_count": 23,
      "metadata": {
        "colab": {
          "base_uri": "https://localhost:8080/"
        },
        "id": "DIDeuYRwHlBw",
        "outputId": "4a5e76e2-3754-491d-ac5b-14bf60bbf6d2"
      },
      "outputs": [
        {
          "output_type": "stream",
          "name": "stdout",
          "text": [
            "5\n"
          ]
        }
      ],
      "source": [
        "people_count = len(people)\n",
        "print(people_count)"
      ]
    },
    {
      "cell_type": "markdown",
      "metadata": {
        "id": "UD48tjFCHlBx"
      },
      "source": [
        "**How many people have kids**?"
      ]
    },
    {
      "cell_type": "code",
      "execution_count": 24,
      "metadata": {
        "colab": {
          "base_uri": "https://localhost:8080/"
        },
        "id": "GaTWGX9XHlBx",
        "outputId": "80aeedb0-4c01-4efa-97ca-acb4d566af63"
      },
      "outputs": [
        {
          "output_type": "stream",
          "name": "stdout",
          "text": [
            "4\n"
          ]
        }
      ],
      "source": [
        "People_w_kids = len([person for person in people if person['n_kids'] > 0])\n",
        "print(People_w_kids)"
      ]
    },
    {
      "cell_type": "markdown",
      "metadata": {
        "id": "DFKvld6zHlBx"
      },
      "source": [
        "**How many kids do they have in total?**"
      ]
    },
    {
      "cell_type": "code",
      "execution_count": 25,
      "metadata": {
        "colab": {
          "base_uri": "https://localhost:8080/"
        },
        "id": "9QTj5a-GHlBx",
        "outputId": "d73b96e4-ff31-4d8c-b0b5-6c8852044082"
      },
      "outputs": [
        {
          "output_type": "stream",
          "name": "stdout",
          "text": [
            "10\n"
          ]
        }
      ],
      "source": [
        "total_kids = sum([person['n_kids'] for person in people])\n",
        "print(total_kids)"
      ]
    },
    {
      "cell_type": "markdown",
      "metadata": {
        "id": "LYo5Wq1THlBx"
      },
      "source": [
        "**In a year's time, names ending with \"a\" will have an extra kid. Create a list of dictionaries with people's info in a year's time**"
      ]
    },
    {
      "cell_type": "code",
      "execution_count": 33,
      "metadata": {
        "colab": {
          "base_uri": "https://localhost:8080/"
        },
        "id": "3t-Vnxi3HlBy",
        "outputId": "cc232d54-9a52-4624-a003-c00af68f97f1"
      },
      "outputs": [
        {
          "output_type": "execute_result",
          "data": {
            "text/plain": [
              "[{'name': 'Juan', 'age': 35, 'n_kids': 2},\n",
              " {'name': 'Pepe', 'age': 28, 'n_kids': 0},\n",
              " {'name': 'Sonia', 'age': 42, 'n_kids': 2},\n",
              " {'name': 'Lucía', 'age': 23, 'n_kids': 3},\n",
              " {'name': 'Leo', 'age': 56, 'n_kids': 5}]"
            ]
          },
          "metadata": {},
          "execution_count": 33
        }
      ],
      "source": [
        "list_of_people = [{'name': person['name'], 'age': person['age'] + 1, 'n_kids': person['n_kids'] + (1 if person['name'].endswith('a') else 0)} for person in people]\n",
        "list_of_people"
      ]
    },
    {
      "cell_type": "code",
      "source": [],
      "metadata": {
        "id": "O6ldUGUYUXu-"
      },
      "execution_count": null,
      "outputs": []
    }
  ],
  "metadata": {
    "kernelspec": {
      "display_name": "Python 3 (ipykernel)",
      "language": "python",
      "name": "python3"
    },
    "language_info": {
      "codemirror_mode": {
        "name": "ipython",
        "version": 3
      },
      "file_extension": ".py",
      "mimetype": "text/x-python",
      "name": "python",
      "nbconvert_exporter": "python",
      "pygments_lexer": "ipython3",
      "version": "3.9.13"
    },
    "toc": {
      "base_numbering": 1,
      "nav_menu": {},
      "number_sections": false,
      "sideBar": true,
      "skip_h1_title": false,
      "title_cell": "Table of Contents",
      "title_sidebar": "Contents",
      "toc_cell": false,
      "toc_position": {},
      "toc_section_display": true,
      "toc_window_display": true
    },
    "varInspector": {
      "cols": {
        "lenName": 16,
        "lenType": 16,
        "lenVar": 40
      },
      "kernels_config": {
        "python": {
          "delete_cmd_postfix": "",
          "delete_cmd_prefix": "del ",
          "library": "var_list.py",
          "varRefreshCmd": "print(var_dic_list())"
        },
        "r": {
          "delete_cmd_postfix": ") ",
          "delete_cmd_prefix": "rm(",
          "library": "var_list.r",
          "varRefreshCmd": "cat(var_dic_list()) "
        }
      },
      "types_to_exclude": [
        "module",
        "function",
        "builtin_function_or_method",
        "instance",
        "_Feature"
      ],
      "window_display": false
    },
    "vscode": {
      "interpreter": {
        "hash": "aee8b7b246df8f9039afb4144a1f6fd8d2ca17a180786b69acc140d282b71a49"
      }
    },
    "colab": {
      "provenance": []
    }
  },
  "nbformat": 4,
  "nbformat_minor": 0
}